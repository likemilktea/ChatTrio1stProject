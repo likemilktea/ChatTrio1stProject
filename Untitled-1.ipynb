{
 "cells": [
  {
   "cell_type": "code",
   "execution_count": 1,
   "metadata": {},
   "outputs": [],
   "source": [
    "import pandas as pd"
   ]
  },
  {
   "cell_type": "code",
   "execution_count": 6,
   "metadata": {},
   "outputs": [
    {
     "name": "stdout",
     "output_type": "stream",
     "text": [
      "  temperature wether\n",
      "0       20.4℃     맑음\n",
      "1       20.5℃      비\n",
      "2       20.6℃     태풍\n",
      "3       20.7℃    소나기\n",
      "4       20.8℃     흐림\n",
      "5       20.8℃     흐림\n",
      "6       20.8℃     흐림\n"
     ]
    }
   ],
   "source": [
    "df1=pd.read_csv(\"db/sample.csv\")\n",
    "\n",
    "data1=\"20.8℃\"\n",
    "data2=\"흐림\"\n",
    "my_dict = {\"temperature\": [data1], \"wether\": [data2]}\n",
    "df2=pd.DataFrame(my_dict)\n",
    "df2.to_csv(\"db/sample.csv\",mode='a',header=False,index=False)\n",
    "print(df1)"
   ]
  }
 ],
 "metadata": {
  "kernelspec": {
   "display_name": "Python 3 (ipykernel)",
   "language": "python",
   "name": "python3"
  },
  "language_info": {
   "codemirror_mode": {
    "name": "ipython",
    "version": 3
   },
   "file_extension": ".py",
   "mimetype": "text/x-python",
   "name": "python",
   "nbconvert_exporter": "python",
   "pygments_lexer": "ipython3",
   "version": "3.9.13"
  },
  "orig_nbformat": 4
 },
 "nbformat": 4,
 "nbformat_minor": 2
}
